{
 "cells": [
  {
   "cell_type": "code",
   "execution_count": 5,
   "metadata": {},
   "outputs": [],
   "source": [
    "def magic_square(matrix):\n",
    "    size = len(matrix[0])\n",
    "    sum_list = []\n",
    "    \n",
    "    for col in range(size): # vertical sum\n",
    "        sum_list.append(sum(row[col] for row in matrix))\n",
    "        \n",
    "    sum_list.extend([sum(lines) for lines in matrix]) # horizontal sum\n",
    "    \n",
    "    result1 = 0\n",
    "    for i in range(size):\n",
    "        result1 += matrix[i][i]\n",
    "    sum_list.append(result1)\n",
    "    \n",
    "    result2 = 0\n",
    "    for i in range(size - 1, -1, -1):\n",
    "        result2 += matrix[i][i]\n",
    "    sum_list.append(result2)\n",
    "    \n",
    "    if len(set(sum_list)) > 1:\n",
    "        return False\n",
    "    \n",
    "    return True\n"
   ]
  },
  {
   "cell_type": "code",
   "execution_count": 6,
   "metadata": {},
   "outputs": [
    {
     "data": {
      "text/plain": [
       "False"
      ]
     },
     "execution_count": 6,
     "metadata": {},
     "output_type": "execute_result"
    }
   ],
   "source": [
    "magic_square([[1,2,3],[4,5,6],[7,8,9]])"
   ]
  },
  {
   "cell_type": "code",
   "execution_count": 7,
   "metadata": {},
   "outputs": [
    {
     "data": {
      "text/plain": [
       "True"
      ]
     },
     "execution_count": 7,
     "metadata": {},
     "output_type": "execute_result"
    }
   ],
   "source": [
    "magic_square([[2,7,6],[9,5,1],[4,3,8]])"
   ]
  }
 ],
 "metadata": {
  "kernelspec": {
   "display_name": "Python 3",
   "language": "python",
   "name": "python3"
  },
  "language_info": {
   "codemirror_mode": {
    "name": "ipython",
    "version": 3
   },
   "file_extension": ".py",
   "mimetype": "text/x-python",
   "name": "python",
   "nbconvert_exporter": "python",
   "pygments_lexer": "ipython3",
   "version": "3.11.0"
  },
  "orig_nbformat": 4
 },
 "nbformat": 4,
 "nbformat_minor": 2
}
